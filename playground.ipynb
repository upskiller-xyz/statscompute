{
 "cells": [
  {
   "cell_type": "code",
   "execution_count": 5,
   "metadata": {},
   "outputs": [],
   "source": [
    "from src.loaders.datasetloader import DatasetLoader"
   ]
  },
  {
   "cell_type": "code",
   "execution_count": 6,
   "metadata": {},
   "outputs": [],
   "source": [
    "rooms = DatasetLoader.run(\"../compute/dataset_20250130/test_generation\")"
   ]
  },
  {
   "cell_type": "code",
   "execution_count": 7,
   "metadata": {},
   "outputs": [
    {
     "data": {
      "text/plain": [
       "Room(id='graph_10', graph=[{'from': 'Wall_001', 'to': 'Wall_002', 'angle': 90.0}, {'from': 'Wall_002', 'to': 'Wall_001', 'angle': 90.0}, {'from': 'Wall_002', 'to': 'Wall_003', 'angle': -90.0}, {'from': 'Wall_003', 'to': 'Wall_002', 'angle': -90.0}, {'from': 'Wall_003', 'to': 'Wall_004', 'angle': -90.0}, {'from': 'Wall_004', 'to': 'Wall_003', 'angle': -90.0}, {'from': 'Wall_004', 'to': 'Wall_005', 'angle': -90.0}, {'from': 'Wall_005', 'to': 'Wall_004', 'angle': -90.0}, {'from': 'Wall_005', 'to': 'Wall_006', 'angle': -90.0}, {'from': 'Wall_006', 'to': 'Wall_005', 'angle': -90.0}, {'from': 'Wall_006', 'to': 'Wall_001', 'angle': -90.0}, {'from': 'Wall_001', 'to': 'Wall_006', 'angle': -90.0}, {'from': 'Window_001', 'to': 'Wall_004', 'uv_coordinates': {'u': 0.53158, 'v': 0.58074}}, {'from': 'Balcony_001', 'to': 'Wall_004', 'uv_coordinates': {'u': 0.0, 'v': 0.61742}}], walls=[Wall(id='Wall_001', center=Coordinate(x=0, y=0, z=0), bb=Bbox(width=0.37, height=4.45, length=0.4466), props=WallProps(material='Concrete', reflectivity=0.75)), Wall(id='Wall_002', center=Coordinate(x=0, y=0, z=0), bb=Bbox(width=0.37, height=4.45, length=3.1119), props=WallProps(material='Concrete', reflectivity=0.75)), Wall(id='Wall_003', center=Coordinate(x=0, y=0, z=0), bb=Bbox(width=0.37, height=4.45, length=2.3234), props=WallProps(material='Concrete', reflectivity=0.75)), Wall(id='Wall_004', center=Coordinate(x=0, y=0, z=0), bb=Bbox(width=0.37, height=4.45, length=9.59), props=WallProps(material='Concrete', reflectivity=0.75)), Wall(id='Wall_005', center=Coordinate(x=0, y=0, z=0), bb=Bbox(width=0.37, height=4.45, length=2.77), props=WallProps(material='Concrete', reflectivity=0.75)), Wall(id='Wall_006', center=Coordinate(x=0, y=0, z=0), bb=Bbox(width=0.37, height=4.45, length=6.4781), props=WallProps(material='Concrete', reflectivity=0.75))], windows=[Window(id='Window_001', center=Coordinate(x=0, y=0, z=0), bb=Bbox(width=0.37, height=0.43, length=7.85), props=WindowProps(material='Glass', transmittance=0.75, ratio=0.27))], slabs=[Slab(id='Floor_001', center=Coordinate(x=0, y=0, z=0), bb=Bbox(width=0, height=0, length=0), props=SlabProps(material='Concrete', reflectivity=0.3, area=25.17453)), Slab(id='Ceiling_001', center=Coordinate(x=0, y=0, z=0), bb=Bbox(width=0, height=0, length=0), props=SlabProps(material='Concrete', reflectivity=0.8, area=25.17453))])"
      ]
     },
     "execution_count": 7,
     "metadata": {},
     "output_type": "execute_result"
    }
   ],
   "source": [
    "rooms[1]"
   ]
  },
  {
   "cell_type": "code",
   "execution_count": 8,
   "metadata": {},
   "outputs": [],
   "source": [
    "from src.stats.stat_calculator import StatCalculator"
   ]
  },
  {
   "cell_type": "code",
   "execution_count": 10,
   "metadata": {},
   "outputs": [],
   "source": [
    "res = StatCalculator.run(rooms)"
   ]
  },
  {
   "cell_type": "code",
   "execution_count": 11,
   "metadata": {},
   "outputs": [
    {
     "data": {
      "text/plain": [
       "[StatResult(mean=np.float64(5.351851851851852), max=np.int64(6), min=np.int64(4)),\n",
       " StatResult(mean=np.float64(1.0), max=np.int64(1), min=np.int64(1)),\n",
       " StatResult(mean=np.float64(2.0), max=np.int64(2), min=np.int64(2)),\n",
       " StatResult(mean=np.float64(28.32965842592593), max=np.float64(90.848), min=np.float64(5.23582))]"
      ]
     },
     "execution_count": 11,
     "metadata": {},
     "output_type": "execute_result"
    }
   ],
   "source": [
    "res"
   ]
  }
 ],
 "metadata": {
  "kernelspec": {
   "display_name": "upskiller",
   "language": "python",
   "name": "python3"
  },
  "language_info": {
   "codemirror_mode": {
    "name": "ipython",
    "version": 3
   },
   "file_extension": ".py",
   "mimetype": "text/x-python",
   "name": "python",
   "nbconvert_exporter": "python",
   "pygments_lexer": "ipython3",
   "version": "3.10.12"
  }
 },
 "nbformat": 4,
 "nbformat_minor": 2
}
