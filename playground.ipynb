{
 "cells": [
  {
   "cell_type": "markdown",
   "metadata": {},
   "source": [
    "### Graph dataset"
   ]
  },
  {
   "cell_type": "code",
   "execution_count": 1,
   "metadata": {},
   "outputs": [
    {
     "data": {
      "text/plain": [
       "<torch._C.Generator at 0x7fdef9248f10>"
      ]
     },
     "execution_count": 1,
     "metadata": {},
     "output_type": "execute_result"
    }
   ],
   "source": [
    "import torch\n",
    "from torch.nn import Linear\n",
    "import torch.nn.functional as F\n",
    "from torch_geometric.nn import GCNConv\n",
    "from torch_geometric.nn import global_mean_pool\n",
    "from torch_geometric.transforms import RandomLinkSplit\n",
    "from torch_geometric.nn import GAE\n",
    "\n",
    "from torch_geometric.utils import to_networkx\n",
    "\n",
    "from torch_geometric.loader import DataLoader\n",
    "torch.manual_seed(12345)\n"
   ]
  },
  {
   "cell_type": "code",
   "execution_count": 2,
   "metadata": {},
   "outputs": [],
   "source": [
    "%matplotlib inline\n",
    "import networkx as nx\n",
    "import matplotlib.pyplot as plt\n",
    "\n",
    "def visualize_graph(G, color):\n",
    "    plt.figure(figsize=(7,7))\n",
    "    plt.xticks([])\n",
    "    plt.yticks([])\n",
    "    nx.draw_networkx(G, pos=nx.spring_layout(G, seed=42), with_labels=False,\n",
    "                     node_color=color, cmap=\"Set2\")\n",
    "    plt.show()\n",
    "\n",
    "\n",
    "def visualize_embedding(h, color, epoch=None, loss=None):\n",
    "    plt.figure(figsize=(7,7))\n",
    "    plt.xticks([])\n",
    "    plt.yticks([])\n",
    "    h = h.detach().cpu().numpy()\n",
    "    plt.scatter(h[:, 0], h[:, 1], s=140, c=color, cmap=\"Set2\")\n",
    "    if epoch is not None and loss is not None:\n",
    "        plt.xlabel(f'Epoch: {epoch}, Loss: {loss.item():.4f}', fontsize=16)\n",
    "    plt.show()"
   ]
  },
  {
   "cell_type": "code",
   "execution_count": 3,
   "metadata": {},
   "outputs": [],
   "source": [
    "from src.graph.dataset import DaylightDataset"
   ]
  },
  {
   "cell_type": "code",
   "execution_count": 4,
   "metadata": {},
   "outputs": [],
   "source": [
    "d = DaylightDataset(\"../graph\")\n",
    "_ = d.process()"
   ]
  },
  {
   "cell_type": "code",
   "execution_count": null,
   "metadata": {},
   "outputs": [],
   "source": [
    "from __future__ import annotations\n",
    "from dataclasses import dataclass\n",
    "import numpy as np\n",
    "\n",
    "@dataclass(frozen=True)\n",
    "class PipelineInput:\n",
    "    dataset: DaylightDataset\n",
    "    train: DataLoader\n",
    "    val: DataLoader\n",
    "    model: torch.nn.Module\n",
    "\n",
    "\n",
    "class Step:\n",
    "    @classmethod\n",
    "    def run(cls, inp:PipelineInput)->PipelineInput:\n",
    "        return cls._run(inp)\n",
    "    \n",
    "    @classmethod\n",
    "    def _run(cls, inp:PipelineInput)->PipelineInput:\n",
    "        return inp\n",
    "    \n",
    "\n",
    "class DataLoadStep(Step):\n",
    "    \n",
    "    @classmethod\n",
    "    def _run(cls, inp:PipelineInput)->PipelineInput:\n",
    "        return\n",
    "    \n",
    "class DataProcessStep(Step):\n",
    "    batch = 100\n",
    "\n",
    "    @classmethod\n",
    "    def _split(cls, d:DaylightDataset)->tuple[DaylightDataset, DaylightDataset]:\n",
    "        percent = np.ceil(len(d) * 0.8)\n",
    "        dataset = d.shuffle()\n",
    "        return (dataset[:percent], dataset[percent:])\n",
    "    \n",
    "    @classmethod\n",
    "    def _run(cls, inp:PipelineInput)->PipelineInput:\n",
    "        train_ds, val_ds = cls._split(inp.dataset)\n",
    "        # print(f'Number of training graphs: {len(train_ds)}')\n",
    "        # print(f'Number of test graphs: {len(val_ds)}')\n",
    "        train_loader = DataLoader(train_ds, batch_size=cls.batch, shuffle=True)\n",
    "        val_loader = DataLoader(val_ds, batch_size=cls.batch, shuffle=False)\n",
    "        \n",
    "        # for step, data in enumerate(train_loader):\n",
    "        #     print(f'Step {step + 1}:')\n",
    "        #     print('=======')\n",
    "        #     print(f'Number of graphs in the current batch: {data.num_graphs}')\n",
    "        #     print(data)\n",
    "        #     print()\n",
    "        return PipelineInput(inp.dataset, train_loader, val_loader, None)\n",
    "        \n",
    "\n",
    "class ModelBuildStep(Step):\n",
    "    \n",
    "    @classmethod\n",
    "    def _run(cls, inp:PipelineInput)->PipelineInput:\n",
    "        return"
   ]
  },
  {
   "cell_type": "code",
   "execution_count": null,
   "metadata": {},
   "outputs": [
    {
     "name": "stdout",
     "output_type": "stream",
     "text": [
      "Number of training graphs: 800\n",
      "Number of test graphs: 200\n",
      "Step 1:\n",
      "=======\n",
      "Number of graphs in the current batch: 100\n",
      "DataBatch(x=[914, 7], edge_index=[2, 1798], batch=[914], ptr=[101])\n",
      "\n",
      "Step 2:\n",
      "=======\n",
      "Number of graphs in the current batch: 100\n",
      "DataBatch(x=[903, 7], edge_index=[2, 1785], batch=[903], ptr=[101])\n",
      "\n",
      "Step 3:\n",
      "=======\n",
      "Number of graphs in the current batch: 100\n",
      "DataBatch(x=[912, 7], edge_index=[2, 1808], batch=[912], ptr=[101])\n",
      "\n",
      "Step 4:\n",
      "=======\n",
      "Number of graphs in the current batch: 100\n",
      "DataBatch(x=[896, 7], edge_index=[2, 1754], batch=[896], ptr=[101])\n",
      "\n",
      "Step 5:\n",
      "=======\n",
      "Number of graphs in the current batch: 100\n",
      "DataBatch(x=[888, 7], edge_index=[2, 1748], batch=[888], ptr=[101])\n",
      "\n",
      "Step 6:\n",
      "=======\n",
      "Number of graphs in the current batch: 100\n",
      "DataBatch(x=[920, 7], edge_index=[2, 1820], batch=[920], ptr=[101])\n",
      "\n",
      "Step 7:\n",
      "=======\n",
      "Number of graphs in the current batch: 100\n",
      "DataBatch(x=[908, 7], edge_index=[2, 1782], batch=[908], ptr=[101])\n",
      "\n",
      "Step 8:\n",
      "=======\n",
      "Number of graphs in the current batch: 100\n",
      "DataBatch(x=[894, 7], edge_index=[2, 1760], batch=[894], ptr=[101])\n",
      "\n"
     ]
    }
   ],
   "source": [
    "\n"
   ]
  },
  {
   "cell_type": "code",
   "execution_count": null,
   "metadata": {},
   "outputs": [],
   "source": [
    "\n",
    "    \n",
    "\n",
    "    \n"
   ]
  },
  {
   "cell_type": "code",
   "execution_count": 38,
   "metadata": {},
   "outputs": [],
   "source": [
    "def train(model, b, optimizer, criterion):\n",
    "    model.train()\n",
    "    optimizer.zero_grad()\n",
    "\n",
    "    out, z = model(b.x, b.edge_index)\n",
    "    loss = criterion(out, b.x)\n",
    "    loss.backward()\n",
    "    optimizer.step()\n",
    "    return loss.item()\n",
    "\n",
    "def test(model, b1, criterion):\n",
    "    model.eval()\n",
    "    with torch.no_grad():\n",
    "        out, z = model(b1.x, b1.edge_index)\n",
    "        loss = criterion(out, b1.x)\n",
    "        return loss"
   ]
  },
  {
   "cell_type": "code",
   "execution_count": 39,
   "metadata": {},
   "outputs": [],
   "source": [
    "def test(model, loader, criterion):\n",
    "    model.eval()\n",
    "    loss = None\n",
    "    for data in loader:  # Iterate in batches over the training/test dataset.\n",
    "        out, _ = model(data.x, data.edge_index)  \n",
    "        loss = criterion(out, data.x)\n",
    "    return loss"
   ]
  },
  {
   "cell_type": "code",
   "execution_count": null,
   "metadata": {},
   "outputs": [],
   "source": []
  },
  {
   "cell_type": "code",
   "execution_count": null,
   "metadata": {},
   "outputs": [],
   "source": []
  },
  {
   "cell_type": "code",
   "execution_count": 56,
   "metadata": {},
   "outputs": [
    {
     "name": "stdout",
     "output_type": "stream",
     "text": [
      "Epoch 1, Train loss: 0.22294557094573975 Loss: 0.20814724266529083\n",
      "Epoch 11, Train loss: 0.08155786991119385 Loss: 0.07835352420806885\n",
      "Epoch 21, Train loss: 0.04998799040913582 Loss: 0.04746510088443756\n",
      "Epoch 31, Train loss: 0.04119078069925308 Loss: 0.040179912000894547\n",
      "Epoch 41, Train loss: 0.0395866334438324 Loss: 0.03700149431824684\n",
      "Epoch 51, Train loss: 0.03817928209900856 Loss: 0.03614649549126625\n",
      "Epoch 61, Train loss: 0.03527112305164337 Loss: 0.034523457288742065\n",
      "Epoch 71, Train loss: 0.03546348214149475 Loss: 0.033851414918899536\n",
      "Epoch 81, Train loss: 0.0334065817296505 Loss: 0.03351810574531555\n",
      "Epoch 91, Train loss: 0.03421708941459656 Loss: 0.03209898993372917\n",
      "Epoch 101, Train loss: 0.03359078988432884 Loss: 0.0306084007024765\n",
      "Epoch 111, Train loss: 0.030592026188969612 Loss: 0.029520142823457718\n",
      "Epoch 121, Train loss: 0.029018133878707886 Loss: 0.02816743776202202\n",
      "Epoch 131, Train loss: 0.02562830224633217 Loss: 0.02669668011367321\n",
      "Epoch 141, Train loss: 0.025684304535388947 Loss: 0.025779128074645996\n",
      "Epoch 151, Train loss: 0.02560383267700672 Loss: 0.025097200646996498\n",
      "Epoch 161, Train loss: 0.02393055520951748 Loss: 0.024454191327095032\n",
      "Epoch 171, Train loss: 0.024066578596830368 Loss: 0.023841973394155502\n",
      "Epoch 181, Train loss: 0.022244341671466827 Loss: 0.02352636307477951\n",
      "Epoch 191, Train loss: 0.022380730137228966 Loss: 0.023053787648677826\n",
      "Epoch 201, Train loss: 0.022450219839811325 Loss: 0.022678501904010773\n",
      "Epoch 211, Train loss: 0.021153010427951813 Loss: 0.02288706600666046\n",
      "Epoch 221, Train loss: 0.021904686465859413 Loss: 0.02229306660592556\n",
      "Epoch 231, Train loss: 0.022123906761407852 Loss: 0.022139376029372215\n",
      "Early stopping triggered\n",
      "Training complete.\n"
     ]
    }
   ],
   "source": [
    "out_channels = 2\n",
    "num_features = d.num_features\n",
    "model = GraphAutoencoder(num_features, out_channels)\n",
    "optimizer = torch.optim.Adam(model.parameters(), lr=0.01)\n",
    "criterion = torch.nn.MSELoss()\n",
    "early_stopping = EarlyStopping(patience=50, min_delta=0.001)\n",
    "for epoch in range(1000):\n",
    "    for batch in train_loader:\n",
    "        loss = train(model, batch, optimizer, criterion)\n",
    "    val_loss = test(model, test_loader, criterion)\n",
    "    if (epoch % 10 ==0):\n",
    "        print(f'Epoch {epoch+1}, Train loss: {loss} Loss: {val_loss}')\n",
    "    early_stopping(val_loss)\n",
    "    if early_stopping.early_stop:\n",
    "        print(\"Early stopping triggered\")\n",
    "        break\n",
    "\n",
    "print('Training complete.')"
   ]
  },
  {
   "cell_type": "code",
   "execution_count": null,
   "metadata": {},
   "outputs": [],
   "source": [
    "\n",
    "G = to_networkx(d[100], to_undirected=True)\n",
    "visualize_graph(G, color=\"red\")"
   ]
  },
  {
   "cell_type": "code",
   "execution_count": 54,
   "metadata": {},
   "outputs": [
    {
     "name": "stderr",
     "output_type": "stream",
     "text": [
      "/tmp/ipykernel_125041/2470569930.py:19: UserWarning: No data for colormapping provided via 'c'. Parameters 'cmap' will be ignored\n",
      "  plt.scatter(h[:, 0], h[:, 1], s=140, c=color, cmap=\"Set2\")\n"
     ]
    },
    {
     "data": {
      "image/png": "[encoded data removed]",
      "text/plain": [
       "<Figure size 700x700 with 1 Axes>"
      ]
     },
     "metadata": {},
     "output_type": "display_data"
    }
   ],
   "source": [
    "visualize_embedding(test_dataset.x, \"red\")"
   ]
  },
  {
   "cell_type": "code",
   "execution_count": null,
   "metadata": {},
   "outputs": [],
   "source": []
  },
  {
   "cell_type": "markdown",
   "metadata": {},
   "source": [
    "### Stats compute"
   ]
  },
  {
   "cell_type": "code",
   "execution_count": 5,
   "metadata": {},
   "outputs": [],
   "source": [
    "from src.loaders.datasetloader import DatasetLoader"
   ]
  },
  {
   "cell_type": "code",
   "execution_count": 6,
   "metadata": {},
   "outputs": [],
   "source": [
    "rooms = DatasetLoader.run(\"../compute/dataset_20250130/test_generation\")"
   ]
  },
  {
   "cell_type": "code",
   "execution_count": 7,
   "metadata": {},
   "outputs": [
    {
     "data": {
      "text/plain": [
       "Room(id='graph_10', graph=[{'from': 'Wall_001', 'to': 'Wall_002', 'angle': 90.0}, {'from': 'Wall_002', 'to': 'Wall_001', 'angle': 90.0}, {'from': 'Wall_002', 'to': 'Wall_003', 'angle': -90.0}, {'from': 'Wall_003', 'to': 'Wall_002', 'angle': -90.0}, {'from': 'Wall_003', 'to': 'Wall_004', 'angle': -90.0}, {'from': 'Wall_004', 'to': 'Wall_003', 'angle': -90.0}, {'from': 'Wall_004', 'to': 'Wall_005', 'angle': -90.0}, {'from': 'Wall_005', 'to': 'Wall_004', 'angle': -90.0}, {'from': 'Wall_005', 'to': 'Wall_006', 'angle': -90.0}, {'from': 'Wall_006', 'to': 'Wall_005', 'angle': -90.0}, {'from': 'Wall_006', 'to': 'Wall_001', 'angle': -90.0}, {'from': 'Wall_001', 'to': 'Wall_006', 'angle': -90.0}, {'from': 'Window_001', 'to': 'Wall_004', 'uv_coordinates': {'u': 0.53158, 'v': 0.58074}}, {'from': 'Balcony_001', 'to': 'Wall_004', 'uv_coordinates': {'u': 0.0, 'v': 0.61742}}], walls=[Wall(id='Wall_001', center=Coordinate(x=0, y=0, z=0), bb=Bbox(width=0.37, height=4.45, length=0.4466), props=WallProps(material='Concrete', reflectivity=0.75)), Wall(id='Wall_002', center=Coordinate(x=0, y=0, z=0), bb=Bbox(width=0.37, height=4.45, length=3.1119), props=WallProps(material='Concrete', reflectivity=0.75)), Wall(id='Wall_003', center=Coordinate(x=0, y=0, z=0), bb=Bbox(width=0.37, height=4.45, length=2.3234), props=WallProps(material='Concrete', reflectivity=0.75)), Wall(id='Wall_004', center=Coordinate(x=0, y=0, z=0), bb=Bbox(width=0.37, height=4.45, length=9.59), props=WallProps(material='Concrete', reflectivity=0.75)), Wall(id='Wall_005', center=Coordinate(x=0, y=0, z=0), bb=Bbox(width=0.37, height=4.45, length=2.77), props=WallProps(material='Concrete', reflectivity=0.75)), Wall(id='Wall_006', center=Coordinate(x=0, y=0, z=0), bb=Bbox(width=0.37, height=4.45, length=6.4781), props=WallProps(material='Concrete', reflectivity=0.75))], windows=[Window(id='Window_001', center=Coordinate(x=0, y=0, z=0), bb=Bbox(width=0.37, height=0.43, length=7.85), props=WindowProps(material='Glass', transmittance=0.75, ratio=0.27))], slabs=[Slab(id='Floor_001', center=Coordinate(x=0, y=0, z=0), bb=Bbox(width=0, height=0, length=0), props=SlabProps(material='Concrete', reflectivity=0.3, area=25.17453)), Slab(id='Ceiling_001', center=Coordinate(x=0, y=0, z=0), bb=Bbox(width=0, height=0, length=0), props=SlabProps(material='Concrete', reflectivity=0.8, area=25.17453))])"
      ]
     },
     "execution_count": 7,
     "metadata": {},
     "output_type": "execute_result"
    }
   ],
   "source": [
    "rooms[1]"
   ]
  },
  {
   "cell_type": "code",
   "execution_count": 8,
   "metadata": {},
   "outputs": [],
   "source": [
    "from src.stats.stat_calculator import StatCalculator"
   ]
  },
  {
   "cell_type": "code",
   "execution_count": 10,
   "metadata": {},
   "outputs": [],
   "source": [
    "res = StatCalculator.run(rooms)"
   ]
  },
  {
   "cell_type": "code",
   "execution_count": 11,
   "metadata": {},
   "outputs": [
    {
     "data": {
      "text/plain": [
       "[StatResult(mean=np.float64(5.351851851851852), max=np.int64(6), min=np.int64(4)),\n",
       " StatResult(mean=np.float64(1.0), max=np.int64(1), min=np.int64(1)),\n",
       " StatResult(mean=np.float64(2.0), max=np.int64(2), min=np.int64(2)),\n",
       " StatResult(mean=np.float64(28.32965842592593), max=np.float64(90.848), min=np.float64(5.23582))]"
      ]
     },
     "execution_count": 11,
     "metadata": {},
     "output_type": "execute_result"
    }
   ],
   "source": [
    "res"
   ]
  }
 ],
 "metadata": {
  "kernelspec": {
   "display_name": "upskiller",
   "language": "python",
   "name": "python3"
  },
  "language_info": {
   "codemirror_mode": {
    "name": "ipython",
    "version": 3
   },
   "file_extension": ".py",
   "mimetype": "text/x-python",
   "name": "python",
   "nbconvert_exporter": "python",
   "pygments_lexer": "ipython3",
   "version": "3.10.12"
  }
 },
 "nbformat": 4,
 "nbformat_minor": 2
}
